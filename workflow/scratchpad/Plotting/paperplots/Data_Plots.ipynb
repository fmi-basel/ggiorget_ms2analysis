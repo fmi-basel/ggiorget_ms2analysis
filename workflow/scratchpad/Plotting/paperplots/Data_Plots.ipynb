{
 "cells": [
  {
   "cell_type": "markdown",
   "source": [
    "# Plots for Data analysis\n",
    "What is in this script?\n",
    "Plots for Fig 1, 2, and 3 of paper.\n",
    "Plus supplemental plots 1-3\n",
    "\n",
    "What is not in this script?\n",
    "All intensity traces from example cells can be found in the script 'Plotted_examples_intensitytraces.py'. It is not included in this script to ensure that the example movies come from the same data set/cell as the plots."
   ],
   "metadata": {
    "collapsed": false
   }
  },
  {
   "cell_type": "code",
   "execution_count": 1,
   "outputs": [],
   "source": [
    "# packages\n",
    "import os\n",
    "\n",
    "import matplotlib\n",
    "import matplotlib.pyplot as plt\n",
    "import matplotlib.ticker as ticker\n",
    "import numpy as np\n",
    "import pandas as pd\n",
    "from lifelines import KaplanMeierFitter\n",
    "import seaborn as sns\n",
    "from scipy import stats\n",
    "from skimage.morphology import remove_small_holes\n",
    "import statsmodels.api as sm\n",
    "import itertools\n",
    "from glob import glob\n",
    "\n",
    "#define some global setting for aesthetics\n",
    "#default to overwrite sns settings\n",
    "plt.style.use('default')\n",
    "# set text to arial\n",
    "matplotlib.rcParams['font.sans-serif'] = \"Arial\"\n",
    "matplotlib.rcParams['font.family'] = \"sans-serif\"\n",
    "matplotlib.rcParams['pdf.fonttype'] = 42\n",
    "matplotlib.rcParams['ps.fonttype'] = 42\n",
    "# set font size in pt\n",
    "font = {'size': 6}\n",
    "matplotlib.rc('font', **font)\n",
    "\n",
    "# conversion factor from mm to inch (matplotlib uses inch)\n",
    "mm = 1 / 25.4\n",
    "\n",
    "#functions for data processing\n",
    "def remove_zero_text(x):\n",
    "    \"\"\"\"\n",
    "    Remove the zero from the clone name, e.g. 6G03 -> 6G3\n",
    "    Args:\n",
    "         x: (str) clone name\n",
    "    Returns:\n",
    "         x: (str) clone name without zero\n",
    "    \"\"\"\n",
    "    if len(x) >= 3 and x[2] == '0':\n",
    "        return x[:2] + x[3:]\n",
    "    else:\n",
    "        return x\n",
    "\n",
    "\n",
    "def signallength(x, column):\n",
    "    \"\"\"\n",
    "    From a series calculate how long a state was present, including information about GFP levels.\n",
    "    Args:\n",
    "         x: (pd.Dataframe) dataframe in which one column should be processed\n",
    "         column: (str) column name from x to be processed\n",
    "    Returns:\n",
    "         burst_stats: (pd.Dataframe) processed dataframe\n",
    "    \"\"\"\n",
    "    x = x.assign(signal_no=(x[column] != x[column].shift()).cumsum())\n",
    "    burst_stats = x.groupby(['unique_id', 'signal_no', column]).agg(\n",
    "        {'frame': ['count'], 'corr_trace': ['sum', 'max'],\n",
    "         'integrated_intensity_gfp': ['sum', 'max']}).reset_index()\n",
    "    burst_stats.columns = list(map(''.join, burst_stats.columns.values))\n",
    "    return burst_stats\n",
    "\n",
    "\n",
    "def indicate_first_last(x, column):\n",
    "    \"\"\"\n",
    "    From a series, indicate the if the occurrence is left-, right-, non-censored or both, right and left censored.\n",
    "    Args:\n",
    "         x: (pd.Dataframe) dataframe in which one column should be processed\n",
    "         column: (str) column name from x to be processed\n",
    "    Returns:\n",
    "         data: (pd.Dataframe) processed dataframe with an additional column containing the censoring information\n",
    "    \"\"\"\n",
    "    data = x.copy()\n",
    "    data['censored'] = 'noncensored'\n",
    "    min_id = data[column].min()\n",
    "    max_id = data[column].max()\n",
    "    data.loc[data[column] == min_id, 'censored'] = 'leftcensored'\n",
    "    data.loc[data[column] == max_id, 'censored'] = 'rightcensored'\n",
    "    if min_id == max_id:\n",
    "        data['censored'] = 'nonbursting'\n",
    "    return data\n",
    "\n",
    "\n",
    "def remove_positives(data, area_size=2):\n",
    "    \"\"\"\n",
    "    From a bool signal trace, removes True values of certain length\n",
    "    Args:\n",
    "         data: (pd.Series) data trace to be processed\n",
    "         area_size: (int) minimal length of consecutive True values to keep\n",
    "\n",
    "    Returns:\n",
    "         data_array_filtered: (pd.Series) filtered data trace\n",
    "    \"\"\"\n",
    "    data_array = data.apply(lambda x: not x)\n",
    "    data_array_filtered = remove_small_holes(data_array, area_threshold=area_size)\n",
    "    data_array_filtered = ~data_array_filtered.astype(bool)\n",
    "    return data_array_filtered"
   ],
   "metadata": {
    "collapsed": false
   }
  },
  {
   "cell_type": "code",
   "execution_count": 2,
   "outputs": [],
   "source": [
    "# Global variables\n",
    "# where to save the plots\n",
    "path_out = '/Users/janatunnermann/Desktop/plots_paper/'\n",
    "\n",
    "# color scheme\n",
    "green_5e10 = (111 / 255, 188 / 255, 133 / 255)\n",
    "blue_5f11 = (113 / 255, 171 / 255, 221 / 255)\n",
    "purple_5g3 = (156 / 255, 107 / 255, 184 / 255)\n",
    "red_5g7 = (213 / 255, 87 / 255, 69 / 255)\n",
    "colors_clones_fit = [green_5e10, blue_5f11, purple_5g3, red_5g7]\n",
    "clones_fit = ['5E10', '5F11', '5G3', '5G7']\n",
    "\n",
    "#add info for 6G3, not bursting in black\n",
    "colors_clones_all = pd.DataFrame({'clone': ['6G3'] + clones_fit, 'color': ['black'] + colors_clones_fit})"
   ],
   "metadata": {
    "collapsed": false
   }
  },
  {
   "cell_type": "markdown",
   "source": [
    "# Data loading\n",
    "possible to load datasets independently, comments tell for which figures dataset is necessary"
   ],
   "metadata": {
    "collapsed": false
   }
  },
  {
   "cell_type": "code",
   "execution_count": 3,
   "outputs": [],
   "source": [
    "# Splinkerette Data (used in almost all figures, always loaded)\n",
    "positions = '/Volumes/ggiorget_scratch/Jana/transcrip_dynamic/E10_Mobi/Splinkerette/summary_output/Positions_plate5.6_withcontactprob.csv'\n",
    "df_positions = pd.read_csv(positions)\n",
    "df_positions['clone'] = df_positions['clone'].apply(remove_zero_text)\n",
    "df_positions.rename(columns={'cp_distance': 'cp'}, inplace=True)"
   ],
   "metadata": {
    "collapsed": false
   }
  },
  {
   "cell_type": "code",
   "execution_count": 4,
   "outputs": [],
   "source": [
    "trendline = '/Volumes/ggiorget_scratch/Jana/transcrip_dynamic/trendline_zuinetal.csv'\n",
    "df_trendline = pd.read_csv(trendline, header=None)"
   ],
   "metadata": {
    "collapsed": false
   }
  },
  {
   "cell_type": "code",
   "execution_count": 6,
   "outputs": [],
   "source": [
    "# FACS data. for Fig 1, 2, 3\n",
    "# read from Plate\n",
    "FACS_data_plate = path = '/Volumes/ggiorget_scratch/Jana/transcrip_dynamic/E10_Mobi/facs/analysis/MobiPlates5.6/analysis/SummaryFACS_Mobiplate56.csv'\n",
    "df_facs_plate = pd.read_csv(FACS_data_plate)\n",
    "df_facs_plate['clone'] = df_facs_plate['clone'].apply(remove_zero_text)\n",
    "df_facs_plate.set_index('clone', inplace=True)\n",
    "\n",
    "#add info about distance and contact probability from Splinkerette data\n",
    "df_facs_plate = df_facs_plate.merge(df_positions[['clone', 'distance', 'cp']], on='clone')\n",
    "\n",
    "# measured in parallel to live-imaging\n",
    "FACS_data_exp = '/Volumes/ggiorget_scratch/Jana/transcrip_dynamic/E10_Mobi/facs/analysis/livecell_fiveclones/imaging_day/ficeclone-liveimaging_gfp-flowcytomery_summary.csv'\n",
    "df_facs_exp = pd.read_csv(FACS_data_exp, dtype={'Clone': 'str'})"
   ],
   "metadata": {
    "collapsed": false
   }
  },
  {
   "cell_type": "code",
   "execution_count": 5,
   "outputs": [],
   "source": [
    "# FISH data. for Fig 1, 2, 3\n",
    "# average numbers per cell\n",
    "FISH_data = '/Volumes/ggiorget_scratch/Jana/transcrip_dynamic/E10_Mobi/fish/summarized_data/spots-per-cell-avg_MS2.csv'\n",
    "df_fish_avgcell = pd.read_csv(FISH_data)\n",
    "\n",
    "# individual spots per cell, has info if TSS or single molecule\n",
    "FISH_data_individualspots = '/Volumes/ggiorget_scratch/Jana/transcrip_dynamic/E10_Mobi/fish/summarized_data/individual_spots-per-cell_MS2_zscore_TS.csv'\n",
    "df_fish_TS = pd.read_csv(FISH_data_individualspots)"
   ],
   "metadata": {
    "collapsed": false
   }
  },
  {
   "cell_type": "code",
   "execution_count": 6,
   "outputs": [],
   "source": [
    "# Groundtruth data from smFISH for TSS analysis plots (supplement 3)\n",
    "# load threshold data\n",
    "fishtreshold_data = pd.read_csv(\n",
    "    '/Volumes/ggiorget_scratch/Jana/transcrip_dynamic/E10_Mobi/fish/summarized_data/bootstrap-results_thresholds_TS-classification.csv')\n",
    "mu_tss = \\\n",
    "    fishtreshold_data.loc[fishtreshold_data['candidate'] == 'zscore_sample-data_spot_max_sub_shifted_log', 'mu'].values[\n",
    "        0]\n",
    "sigma_tss = \\\n",
    "    fishtreshold_data.loc[\n",
    "        fishtreshold_data['candidate'] == 'zscore_sample-data_spot_max_sub_shifted_log', 'sigma'].values[\n",
    "        0]\n",
    "x_tss = np.linspace(mu_tss - 3 * sigma_tss, mu_tss + 3 * sigma_tss, 100)\n",
    "\n",
    "# load groundtruth data (it includes data from cells that were excluded for analysis)\n",
    "# import data\n",
    "input_dir_singlemRNA = '/Volumes/ggiorget_scratch/Jana/transcrip_dynamic/E10_Mobi/fish/data/output/groundtruth'\n",
    "files_groundtruth = glob(os.path.join(input_dir_singlemRNA, \"*_single-mRNA.csv\"))\n",
    "df_single = []\n",
    "for file in files_groundtruth:\n",
    "    df_file = pd.read_csv(file)\n",
    "    df_file['file'] = os.path.basename(file)\n",
    "    df_single.append(df_file)\n",
    "df_single = pd.concat(df_single).reset_index(drop=True)\n",
    "\n",
    "# clean-up column names\n",
    "df_single.rename(columns={'axis-0': 'z', 'axis-1': 'y', 'axis-2': 'x'}, inplace=True)\n",
    "df_single['file'] = df_single['file'].str.replace('_single-mRNA', '_postprocessed')\n",
    "df_single['TS_groundtruth'] = 'singlemRNA'\n",
    "df_single.drop(columns=['index'], inplace=True)\n",
    "df_single = df_single.dropna().reset_index(drop=True)\n",
    "\n",
    "# include spot intensity information from ms2 data\n",
    "files = np.unique(df_single['file'])\n",
    "df_fish_TS_groundtruth = df_fish_TS[df_fish_TS['file'].isin(files)][['file', 'z', 'y', 'x', 'zscore']].dropna()\n",
    "df_fish_TS_groundtruth = df_fish_TS_groundtruth.merge(df_single, on=['file', 'z', 'y', 'x'], how='left', indicator=True)\n",
    "df_fish_TS_groundtruth['TS_groundtruth'] = df_fish_TS_groundtruth['TS_groundtruth'].fillna('TS')\n",
    "df_fish_TS_groundtruth.drop(columns=['_merge'], inplace=True)"
   ],
   "metadata": {
    "collapsed": false
   }
  },
  {
   "cell_type": "code",
   "execution_count": 8,
   "outputs": [],
   "source": [
    "# Live-cell data. for Fig 1, 2, 3\n",
    "live_imaging = '/Volumes/ggiorget_scratch/Jana/transcrip_dynamic/E10_Mobi/live_imaging/data/306KI-ddCTCF-dpuro-MS2-HaloMCP-E10Mobi_JF549_30s_fiveclone_combined_threshold2800_curated.csv'\n",
    "df_burst = pd.read_csv(live_imaging, dtype={'clone': 'str'}, low_memory=False)\n",
    "# exclude first hour of imaging\n",
    "df_burst = df_burst[df_burst['frame'] >= 120]\n",
    "df_burst = df_burst[df_burst['frame'] <= 600]\n",
    "# exclude a few outlier cells that I manually marked\n",
    "df_burst = df_burst[df_burst['spotdetected_filtered_curated'].notna()]\n",
    "# calculate if a cell was bursting or not\n",
    "datatype = 'spotdetected_filtered_curated'\n",
    "bursting = df_burst.groupby(['unique_id']).apply(lambda x: x[datatype].any()).reset_index()\n",
    "bursting.columns = ['unique_id', 'bursting']\n",
    "df_burst = df_burst.merge(bursting, on='unique_id')\n",
    "df_burst.groupby('clone')['unique_id'].nunique()\n",
    "# info about distance and contact probability from Splinkerette data\n",
    "df_burst = df_burst.merge(df_positions[['clone', 'distance', 'cp']], on='clone')"
   ],
   "metadata": {
    "collapsed": false
   }
  },
  {
   "cell_type": "markdown",
   "source": [
    "# Data pre-processing"
   ],
   "metadata": {
    "collapsed": false
   }
  },
  {
   "cell_type": "code",
   "execution_count": 9,
   "outputs": [],
   "source": [
    "# Live-cell imaging data, calculate event length and intensity for (aka on-/off-times)\n",
    "# is used for KM and Survival Probabilities and Burst frequency\n",
    "\n",
    "# Calculate stats including edge-cases (censored data) -> KM\n",
    "# sum-up length of states\n",
    "df_signallength = [signallength(df_burst[df_burst['unique_id'] == i], column=datatype) for i in\n",
    "                   df_burst['unique_id'].unique()]\n",
    "df_signallength = pd.concat(df_signallength, ignore_index=True)\n",
    "df_signallength['clone'] = df_signallength['unique_id'].map(df_burst.groupby(['unique_id'])['clone'].first())\n",
    "\n",
    "# Indicate which values are incomplete/censored\n",
    "df_signallength = [indicate_first_last(df_signallength[df_signallength['unique_id'] == i], column='signal_no') for i in\n",
    "                   df_signallength['unique_id'].unique()]\n",
    "df_signallength = pd.concat(df_signallength, ignore_index=True)\n",
    "\n",
    "# decide on which data to use for KM\n",
    "# drop left censored\n",
    "df_signallength_KM = df_signallength[df_signallength.censored != 'leftcensored']\n",
    "# keep right censored and non-censored\n",
    "df_signallength_KM.loc[df_signallength_KM['censored'] == 'rightcensored', 'censored'] = 0\n",
    "df_signallength_KM.loc[df_signallength_KM['censored'] == 'noncensored', 'censored'] = 1\n",
    "# Either drop non bursting\n",
    "df_signallength_KM = df_signallength_KM[df_signallength_KM.censored != 'nonbursting']\n",
    "\n",
    "\n",
    "# decide on which data to use for Burst size and Burst amplitude\n",
    "# drop left, right censored and non bursting\n",
    "df_signallength_dropedge = df_signallength[df_signallength.censored != 'leftcensored']\n",
    "df_signallength_dropedge = df_signallength_dropedge[df_signallength_dropedge.censored != 'rightcensored']\n",
    "df_signallength_dropedge = df_signallength_dropedge[df_signallength_dropedge.censored != 'nonbursting']"
   ],
   "metadata": {
    "collapsed": false
   }
  },
  {
   "cell_type": "markdown",
   "source": [
    "# Figure 1\n",
    "Intensity trace and cell cut outs can be plotted with a different script: 'Plotted_examples_intensitytraces.py'"
   ],
   "metadata": {
    "collapsed": false
   }
  },
  {
   "cell_type": "code",
   "execution_count": 10,
   "outputs": [
    {
     "data": {
      "text/plain": "<Figure size 157.48x102.362 with 1 Axes>",
      "image/png": "[encoded data removed]"
     },
     "metadata": {},
     "output_type": "display_data"
    }
   ],
   "source": [
    "# --- Flow cytometry with Jessica's trend-line ---\n",
    "# scale trend-line to min and max value from my experiment (maybe fit instead?)\n",
    "df_trendline_scaled = df_trendline.copy()\n",
    "# Define the minimum and maximum values for scaling\n",
    "min_value, min_cp = df_facs_plate.loc[df_facs_plate['clone'] == '6G3', ['Mean', 'cp']].values[0]\n",
    "max_cp = 1\n",
    "max_value = df_facs_plate.loc[df_facs_plate['cp'] == max_cp, ['Mean']].mean().values[0]\n",
    "# Extract the original y values corresponding to x1 and x2\n",
    "min_original = df_trendline_scaled.loc[df_trendline_scaled.iloc[:, 0] == 0, df_trendline_scaled.columns[1]].values[0]\n",
    "max_original = df_trendline_scaled.loc[df_trendline_scaled.iloc[:, 0] == 0.99, df_trendline_scaled.columns[1]].values[0]\n",
    "\n",
    "# Calculate slope (m) and intercept (b)\n",
    "m = (max_value - min_value) / (max_original - min_original)\n",
    "b = min_value - m * min_original\n",
    "\n",
    "# Apply the linear transformation to the entire y column\n",
    "df_trendline_scaled['y_scaled'] = m * df_trendline_scaled.iloc[:, 1] + b\n",
    "\n",
    "plt.figure(figsize=(40*mm, 26*mm))\n",
    "plt.errorbar(df_facs_plate['cp'], df_facs_plate['Mean'], yerr=df_facs_plate['SD'], fmt=\"o\", color='black', markersize=1,\n",
    "             capsize=1,\n",
    "             capthick=0.5,\n",
    "             elinewidth=0.5)\n",
    "plt.plot(df_trendline_scaled[0], df_trendline_scaled['y_scaled'], color='purple', alpha=0.6, linewidth=1)\n",
    "plt.grid(alpha=0.2)\n",
    "plt.tick_params(axis='both', which='both', length=1.5)  # Adjust tick length\n",
    "x_ticks = np.linspace(0, 1, 5)\n",
    "plt.xticks(x_ticks)\n",
    "plt.xlabel('Contact probability')\n",
    "plt.ylabel('Mean EGFP\\nintensity (a.u.)')\n",
    "plt.tight_layout(pad=0.1)\n",
    "plt.savefig(os.path.join(path_out, 'GFP_facs_trendline.pdf'), bbox_inches='tight', transparent=True)\n",
    "plt.show()\n",
    "plt.close()"
   ],
   "metadata": {
    "collapsed": false
   }
  },
  {
   "cell_type": "code",
   "execution_count": 11,
   "outputs": [
    {
     "data": {
      "text/plain": "<Figure size 157.48x102.362 with 1 Axes>",
      "image/png": "[encoded data removed]"
     },
     "metadata": {},
     "output_type": "display_data"
    }
   ],
   "source": [
    "# burst probability per frame and average\n",
    "df_probability = df_burst.groupby(['clone', 'frame']).agg({'spotdetected_filtered_curated': 'mean'}).reset_index()\n",
    "df_probability = df_probability.groupby('clone').agg({'spotdetected_filtered_curated': 'mean'}).reset_index()\n",
    "df_probability = df_probability.merge(df_positions[['clone', 'distance', 'cp']], on='clone')\n",
    "df_probability = df_probability.merge(colors_clones_all)\n",
    "\n",
    "# scale trend-line to min and max value from my experiment (maybe fit instead?)\n",
    "df_trendline_scaled = df_trendline.copy()\n",
    "min_value, min_cp = \\\n",
    "    df_probability.loc[df_probability['clone'] == '6G3', ['spotdetected_filtered_curated', 'cp']].values[0]\n",
    "max_value, max_cp = \\\n",
    "    df_probability.loc[df_probability['clone'] == '5G7', ['spotdetected_filtered_curated', 'cp']].values[0]\n",
    "min_original = \\\n",
    "    df_trendline_scaled.loc[df_trendline_scaled.iloc[:, 0] == round(min_cp, 2), df_trendline_scaled.columns[1]].values[\n",
    "        0]\n",
    "max_original = df_trendline_scaled.loc[df_trendline_scaled.iloc[:, 0] == 0.99, df_trendline_scaled.columns[1]].values[0]\n",
    "m = (max_value - min_value) / (max_original - min_original)\n",
    "b = min_value - m * min_original\n",
    "df_trendline_scaled['y_scaled'] = m * df_trendline_scaled.iloc[:, 1] + b\n",
    "\n",
    "\n",
    "plt.figure(figsize=(40*mm, 26*mm))\n",
    "plt.scatter(df_probability['cp'], df_probability['spotdetected_filtered_curated'], color=df_probability['color'], edgecolor ='black', linewidths=0.25, zorder=3, s=10)\n",
    "plt.plot(df_trendline_scaled[0], df_trendline_scaled['y_scaled'], color='purple', linewidth=1, alpha=0.6, zorder=2)\n",
    "plt.grid(alpha=0.2, zorder=1)\n",
    "x_ticks = np.linspace(0, 1, 5)\n",
    "plt.xticks(x_ticks)\n",
    "plt.tick_params(axis='both', which='both', length=1.5)\n",
    "plt.xlabel('Contact probability')\n",
    "plt.ylabel('Burst probability')\n",
    "plt.tight_layout(pad=0.1)\n",
    "plt.savefig(os.path.join(path_out, 'probability_bursting_trendline_colored.pdf'), bbox_inches='tight', transparent=True)\n",
    "plt.show()\n",
    "plt.close()"
   ],
   "metadata": {
    "collapsed": false
   }
  },
  {
   "cell_type": "markdown",
   "source": [
    "# Supplements 1"
   ],
   "metadata": {
    "collapsed": false
   }
  },
  {
   "cell_type": "code",
   "execution_count": 13,
   "outputs": [
    {
     "name": "stderr",
     "output_type": "stream",
     "text": [
      "/var/folders/xw/97j8jgvs0jj4vght5r2xkt1h0000gp/T/ipykernel_29278/3634608825.py:4: SettingWithCopyWarning: \n",
      "A value is trying to be set on a copy of a slice from a DataFrame.\n",
      "Try using .loc[row_indexer,col_indexer] = value instead\n",
      "\n",
      "See the caveats in the documentation: https://pandas.pydata.org/pandas-docs/stable/user_guide/indexing.html#returning-a-view-versus-a-copy\n",
      "  df_facs_plate_tad['distance'] = df_facs_plate_tad['distance'] / 1000\n"
     ]
    },
    {
     "data": {
      "text/plain": "<Figure size 251.969x192.913 with 1 Axes>",
      "image/png": "[encoded data removed]"
     },
     "metadata": {},
     "output_type": "display_data"
    }
   ],
   "source": [
    "# --- Flow cytometry and genomic distance ---\n",
    "# exclude 6G3, it's on another chromosome/too far to be plotted\n",
    "df_facs_plate_tad = df_facs_plate[df_facs_plate['clone'] != '6G3']\n",
    "df_facs_plate_tad['distance'] = df_facs_plate_tad['distance'] / 1000\n",
    "\n",
    "plt.figure(figsize=(64*mm, 49*mm))\n",
    "plt.errorbar(df_facs_plate_tad['distance'], df_facs_plate_tad['Mean'], yerr=df_facs_plate_tad['SD'], fmt=\"o\",\n",
    "             color='black', markersize=1,\n",
    "             capsize=1,  # Size of the error bar caps\n",
    "             capthick=0.5,  # Thickness of the error bar caps\n",
    "             elinewidth=0.5)\n",
    "plt.grid(alpha=0.2)\n",
    "plt.tick_params(axis='both', which='both', length=1.5)  # Adjust tick length\n",
    "plt.xlabel('Genomic distance (kb)')\n",
    "plt.ylabel('Mean EGFP protein level (a.u.)')\n",
    "plt.tight_layout(pad=0.1)\n",
    "plt.savefig(os.path.join(path_out, 'GFP_facs_genomicdistance.pdf'), bbox_inches='tight', transparent=True)\n",
    "plt.show()\n",
    "plt.close()"
   ],
   "metadata": {
    "collapsed": false
   }
  },
  {
   "cell_type": "code",
   "execution_count": 16,
   "outputs": [
    {
     "name": "stderr",
     "output_type": "stream",
     "text": [
      "/Users/janatunnermann/.local/lib/python3.10/site-packages/seaborn/_decorators.py:36: FutureWarning: Pass the following variables as keyword args: x, y. From version 0.12, the only valid positional argument will be `data`, and passing other arguments without an explicit keyword will result in an error or misinterpretation.\n",
      "  warnings.warn(\n"
     ]
    },
    {
     "data": {
      "text/plain": "<Figure size 177.165x177.165 with 1 Axes>",
      "image/png": "[encoded data removed]"
     },
     "metadata": {},
     "output_type": "display_data"
    }
   ],
   "source": [
    "# --- Correlation Plate eGFP levels (flow cytometry) and eGFP levels from imaging (microscope) ---\n",
    "# calculate mean eGFP levels per clone from microscopy data\n",
    "df_gfp_live = df_burst[['unique_id', 'clone', 'mean_gfp']].drop_duplicates().dropna().groupby('clone')[\n",
    "    'mean_gfp'].describe()\n",
    "\n",
    "# calculate correlation between flow cytometry and microscopy data\n",
    "common_index = df_gfp_live.index.intersection(df_facs_plate['clone'])\n",
    "df_gfp_live_comp = df_gfp_live.loc[common_index]\n",
    "df_facs_plate_comp = df_facs_plate[df_facs_plate['clone'].isin(common_index)]\n",
    "r2 = stats.pearsonr(df_gfp_live_comp['mean'], df_facs_plate_comp['Mean'])[0] ** 2\n",
    "\n",
    "fig, ax = plt.subplots(figsize=(45*mm, 45*mm))\n",
    "sns.regplot(df_gfp_live_comp['mean'], df_facs_plate_comp['Mean'], ci=None, color='black',\n",
    "            label=f'R$^2$={round(r2, 2)}', scatter_kws={'s': 10}, line_kws={'linewidth': 1})\n",
    "plt.xlabel('Mean EGFP intensity\\nmicroscopy (a.u.)')\n",
    "plt.ylabel('Mean EGFP intensity\\nflow cytometry (a.u.)')\n",
    "plt.legend(loc='lower right')\n",
    "plt.grid(alpha=0.2)\n",
    "plt.tick_params(axis='both', which='both', length=1.5)\n",
    "plt.tight_layout(pad=0.1)\n",
    "plt.savefig(os.path.join(path_out, 'GFP_Correlation-facsplate-microscopy.pdf'), bbox_inches='tight', transparent=True)\n",
    "plt.show()\n",
    "plt.close()"
   ],
   "metadata": {
    "collapsed": false
   }
  },
  {
   "cell_type": "markdown",
   "source": [
    "# Figure 2\n",
    "Plots are constructed in a way that they can be used for on/off or size/amplitude analysis.\n",
    "For linear scale in supplement, comment/uncomment one line in plot code\n",
    "\n",
    "The schematic in the Figure can be plotted with a different script: 'Plotted_examples_intensitytraces.py'"
   ],
   "metadata": {
    "collapsed": false
   }
  },
  {
   "cell_type": "code",
   "execution_count": 17,
   "outputs": [
    {
     "name": "stderr",
     "output_type": "stream",
     "text": [
      "/Users/janatunnermann/miniconda3/envs/MS2analysis/lib/python3.10/site-packages/lifelines/utils/__init__.py:1185: UserWarning: Attempting to convert an unexpected datatype 'object' to float. Suggestion: 1) use `lifelines.utils.datetimes_to_durations` to do conversions or 2) manually convert to floats/booleans.\n",
      "  warnings.warn(warning_text, UserWarning)\n",
      "/Users/janatunnermann/miniconda3/envs/MS2analysis/lib/python3.10/site-packages/lifelines/utils/__init__.py:1185: UserWarning: Attempting to convert an unexpected datatype 'object' to float. Suggestion: 1) use `lifelines.utils.datetimes_to_durations` to do conversions or 2) manually convert to floats/booleans.\n",
      "  warnings.warn(warning_text, UserWarning)\n",
      "/Users/janatunnermann/miniconda3/envs/MS2analysis/lib/python3.10/site-packages/lifelines/utils/__init__.py:1185: UserWarning: Attempting to convert an unexpected datatype 'object' to float. Suggestion: 1) use `lifelines.utils.datetimes_to_durations` to do conversions or 2) manually convert to floats/booleans.\n",
      "  warnings.warn(warning_text, UserWarning)\n",
      "/Users/janatunnermann/miniconda3/envs/MS2analysis/lib/python3.10/site-packages/lifelines/utils/__init__.py:1185: UserWarning: Attempting to convert an unexpected datatype 'object' to float. Suggestion: 1) use `lifelines.utils.datetimes_to_durations` to do conversions or 2) manually convert to floats/booleans.\n",
      "  warnings.warn(warning_text, UserWarning)\n"
     ]
    },
    {
     "name": "stdout",
     "output_type": "stream",
     "text": [
      "33.5\n",
      "18.5\n",
      "15.0\n",
      "14.0\n"
     ]
    },
    {
     "data": {
      "text/plain": "<Figure size 173.228x157.48 with 1 Axes>",
      "image/png": "[encoded data removed]"
     },
     "metadata": {},
     "output_type": "display_data"
    }
   ],
   "source": [
    "# - On or Off time -\n",
    "signal = False # True for on-time, False for off-time\n",
    "measure = \"on\" if signal == True else \"off\"\n",
    "title_plot = 'Burst duration' if signal == True else 'Interburst duration'\n",
    "# chose off times with at least one burst in trace\n",
    "df_signallength_times = df_signallength_KM[df_signallength_KM[datatype] == signal]\n",
    "\n",
    "kmf = KaplanMeierFitter()\n",
    "\n",
    "fig, ax = plt.subplots(figsize=(44*mm, 40*mm))\n",
    "for color_id, clone in enumerate(clones_fit):\n",
    "    kmf.fit((df_signallength_times[(df_signallength_times['clone'] == clone)]['framecount']/2),\n",
    "            event_observed=df_signallength_times[(df_signallength_times['clone'] == clone)]['censored'],\n",
    "            label=clone)\n",
    "    print(kmf.median_survival_time_)\n",
    "    km_times = kmf.survival_function_.index.values\n",
    "    km_survival_probs = kmf.survival_function_[clone].values\n",
    "    km_survival_probs[km_survival_probs == 0] = np.nan\n",
    "    km_ci_lower = kmf.confidence_interval_.iloc[:, 0].values\n",
    "    km_ci_lower[km_ci_lower == 0] = np.nan\n",
    "    km_ci_upper = kmf.confidence_interval_.iloc[:, 1].values\n",
    "    km_ci_upper[km_ci_upper == 0] = np.nan\n",
    "    ax.plot(km_times[1:], km_survival_probs[1:], color=colors_clones_fit[color_id], label=clone, linewidth=1)\n",
    "    ax.fill_between(km_times[1:], km_ci_lower[1:], km_ci_upper[1:], color=colors_clones_fit[color_id], alpha=0.2)\n",
    "#plt.legend()\n",
    "plt.yscale('log') # comment if you want linear scale\n",
    "ax.yaxis.set_major_formatter(ticker.FormatStrFormatter('%.3f'))\n",
    "plt.grid(alpha=0.2)\n",
    "plt.tick_params(axis='both', which='both', length=1.5)  # Adjust tick length\n",
    "plt.title(title_plot)\n",
    "plt.xlabel('Time (min)')\n",
    "plt.ylabel('Survival probability')\n",
    "plt.tight_layout(pad=0.1)\n",
    "plt.savefig(os.path.join(path_out, f'{measure}-times_KM.pdf'), bbox_inches='tight', transparent=True)\n",
    "plt.show()\n",
    "plt.close()"
   ],
   "metadata": {
    "collapsed": false
   }
  },
  {
   "cell_type": "code",
   "execution_count": 18,
   "outputs": [
    {
     "data": {
      "text/plain": "<Figure size 173.228x157.48 with 1 Axes>",
      "image/png": "[encoded data removed]"
     },
     "metadata": {},
     "output_type": "display_data"
    }
   ],
   "source": [
    "# - Burst size or amplitude -\n",
    "# define what metric to use (sum (burst size) or max intensity(burst amplitude)\n",
    "metric = 'corr_tracemax'  # corr_tracemax or corr_tracesum\n",
    "measure = \"size\" if metric == 'corr_tracesum' else \"amplitude\"\n",
    "\n",
    "# calculate confidence interval using bootstrapping\n",
    "confidence_interval = []\n",
    "for clone in clones_fit:\n",
    "    # calculate cdf and survival function\n",
    "    cdf = df_signallength_dropedge[\n",
    "        (df_signallength_dropedge[datatype] == True) & (df_signallength_dropedge['clone'] == clone)][\n",
    "        metric].value_counts(\n",
    "        normalize=True).sort_index().cumsum()\n",
    "    cdf.reset_index()\n",
    "    survival = 1 + cdf.iloc[0] - cdf\n",
    "\n",
    "    # Number of bootstrap samples\n",
    "    num_samples = 10000  # You can adjust this as needed\n",
    "\n",
    "    # Create an array to store the bootstrapped CDF values\n",
    "    bootstrap_survivals = np.zeros((num_samples, len(survival)))\n",
    "    # Perform bootstrapping\n",
    "    for i in range(num_samples):\n",
    "        # Resample with replacement from your original data\n",
    "        bootstrap_sample = np.random.choice(survival.index, size=len(survival), replace=True)\n",
    "\n",
    "        # Calculate the CDF of the bootstrap sample\n",
    "        bootstrap_survival = pd.Series(bootstrap_sample).value_counts(normalize=True).sort_index().cumsum()\n",
    "        bootstrap_survival = 1 + bootstrap_survival.iloc[0] - bootstrap_survival\n",
    "\n",
    "        # Interpolate the bootstrap CDF to match the original CDF indices\n",
    "        bootstrap_survival = np.interp(survival.index, bootstrap_survival.index, bootstrap_survival.values)\n",
    "        bootstrap_survivals[i, :] = bootstrap_survival\n",
    "\n",
    "    # Calculate the confidence intervals\n",
    "    alpha = 0.05  # Confidence level (e.g., 95% confidence interval)\n",
    "    lower_percentile = alpha / 2 * 100\n",
    "    upper_percentile = (1 - alpha / 2) * 100\n",
    "\n",
    "    lower_bound = np.percentile(bootstrap_survivals, lower_percentile, axis=0)\n",
    "    upper_bound = np.percentile(bootstrap_survivals, upper_percentile, axis=0)\n",
    "\n",
    "    df = pd.DataFrame({'lower_bound': lower_bound, 'upper_bound': upper_bound})\n",
    "    df['clone'] = clone\n",
    "    confidence_interval.append(df)\n",
    "confidence_interval = pd.concat(confidence_interval)\n",
    "\n",
    "# plot\n",
    "fig, ax = plt.subplots(figsize=(44*mm, 40*mm))\n",
    "for id, clone in enumerate(clones_fit):\n",
    "    cdf = df_signallength_dropedge[\n",
    "        (df_signallength_dropedge[datatype] == True) & (df_signallength_dropedge['clone'] == clone)][\n",
    "        metric].value_counts(normalize=True).sort_index().cumsum()\n",
    "    survival = 1 + cdf.iloc[0] - cdf\n",
    "    plt.plot(survival, color=colors_clones_fit[id], linewidth=1)\n",
    "    plt.fill_between(survival.index, confidence_interval[confidence_interval['clone'] == clone]['lower_bound'],\n",
    "                     confidence_interval[confidence_interval['clone'] == clone]['upper_bound'], alpha=0.2,\n",
    "                     color=colors_clones_fit[id])\n",
    "plt.yscale('log') # comment if you want linear scale\n",
    "ax.yaxis.set_major_formatter(ticker.FormatStrFormatter('%.3f'))\n",
    "plt.grid(alpha=0.2)\n",
    "plt.tick_params(axis='both', which='both', length=1.5)  # Adjust tick length\n",
    "plt.title(f'Burst {measure}')\n",
    "plt.xlabel('Intensity (a.u.)')\n",
    "plt.ylabel('Survival probability')\n",
    "plt.tight_layout(pad=0.1)\n",
    "plt.savefig(os.path.join(path_out, f'burst_{measure}.pdf'), bbox_inches='tight', transparent=True)\n",
    "plt.show()\n",
    "plt.close()"
   ],
   "metadata": {
    "collapsed": false
   }
  },
  {
   "cell_type": "markdown",
   "source": [
    "# Supplement 2\n",
    "Linear scale for Figure 2, see above\n",
    "Here Fraction of non-bursting cells and manual annotated comparision"
   ],
   "metadata": {
    "collapsed": false
   }
  },
  {
   "cell_type": "code",
   "execution_count": 19,
   "outputs": [
    {
     "data": {
      "text/plain": "<Figure size 216.535x157.48 with 1 Axes>",
      "image/png": "[encoded data removed]"
     },
     "metadata": {},
     "output_type": "display_data"
    }
   ],
   "source": [
    "# --- Fraction of non-bursting cells ---\n",
    "percentage_df = df_burst.copy()\n",
    "percentage_df = percentage_df.groupby(['unique_id']).first().groupby('clone')['bursting'].value_counts().unstack(\n",
    "    fill_value=0)\n",
    "percentage_df = percentage_df.div(percentage_df.sum(axis=1), axis=0) * 100\n",
    "percentage_df = percentage_df.merge(df_positions[['clone', 'distance', 'cp']], on='clone')\n",
    "percentage_df.set_index('clone', inplace=True)\n",
    "\n",
    "# scale trendline\n",
    "df_trendline_scaled = df_trendline.copy()\n",
    "min_value, min_cp = percentage_df.loc['6G3', [False, 'cp']].values\n",
    "max_value, max_cp = percentage_df.loc['5G7', [False, 'cp']].values\n",
    "min_original = \\\n",
    "    df_trendline_scaled.loc[df_trendline_scaled.iloc[:, 0] == round(min_cp, 2), df_trendline_scaled.columns[1]].values[\n",
    "        0]\n",
    "max_original = df_trendline_scaled.loc[df_trendline_scaled.iloc[:, 0] == 0.99, df_trendline_scaled.columns[1]].values[0]\n",
    "m = (max_value - min_value) / (max_original - min_original)\n",
    "b = min_value - m * min_original\n",
    "df_trendline_scaled['y_scaled'] = m * df_trendline_scaled.iloc[:, 1] + b\n",
    "\n",
    "# plotting percentage of cells bursting\n",
    "plt.figure(figsize=(55*mm, 40*mm))\n",
    "plt.scatter(percentage_df['cp'], percentage_df[False], color='black', zorder=3, s=3)\n",
    "plt.plot(df_trendline_scaled[0], df_trendline_scaled['y_scaled'], color='purple', linewidth=1, alpha=0.6, zorder=2)\n",
    "plt.grid(alpha=0.2, zorder=1)\n",
    "x_ticks = np.linspace(0, 1, 5)\n",
    "plt.xticks(x_ticks)\n",
    "plt.tick_params(axis='both', which='both', length=1.5)\n",
    "plt.xlabel('Contact probability')\n",
    "plt.ylabel('Fraction of\\nnon-bursting cells')\n",
    "plt.tight_layout(pad=0.1)\n",
    "plt.savefig(os.path.join(path_out, 'percentage_bursting_trendline.pdf'), bbox_inches='tight',\n",
    "            transparent=True)\n",
    "plt.show()\n",
    "plt.close()"
   ],
   "metadata": {
    "collapsed": false
   }
  },
  {
   "cell_type": "markdown",
   "source": [
    "## Manual annotated comparison"
   ],
   "metadata": {
    "collapsed": false
   }
  },
  {
   "cell_type": "code",
   "execution_count": 24,
   "outputs": [
    {
     "name": "stderr",
     "output_type": "stream",
     "text": [
      "/var/folders/xw/97j8jgvs0jj4vght5r2xkt1h0000gp/T/ipykernel_29278/3363026863.py:18: SettingWithCopyWarning: \n",
      "A value is trying to be set on a copy of a slice from a DataFrame.\n",
      "Try using .loc[row_indexer,col_indexer] = value instead\n",
      "\n",
      "See the caveats in the documentation: https://pandas.pydata.org/pandas-docs/stable/user_guide/indexing.html#returning-a-view-versus-a-copy\n",
      "  df_pipeline_sub['detectiontype'] = 'pipeline_subset'\n",
      "/var/folders/xw/97j8jgvs0jj4vght5r2xkt1h0000gp/T/ipykernel_29278/3363026863.py:20: FutureWarning: In a future version, object-dtype columns with all-bool values will not be included in reductions with bool_only=True. Explicitly cast to bool dtype instead.\n",
      "  df = pd.concat([df_annotated, df_pipeline_sub, df], ignore_index=True)\n"
     ]
    }
   ],
   "source": [
    "# load data and process for comparsion\n",
    "path_annotated_data = '/Volumes/ggiorget_scratch/Jana/transcrip_dynamic/E10_Mobi/live_imaging/benchmarking/annotated_tracks/306KI-ddCTCF-dpuro-MS2-HaloMCP-E10Mobi_JF549_30s_fiveclone_manualannotated_combined.csv'\n",
    "\n",
    "\n",
    "df_annotated = pd.read_csv(path_annotated_data)\n",
    "df_annotated['detectiontype'] = 'annotated'\n",
    "# I annotated some 5E10 data, but not enough to show for the paper, hence remove it\n",
    "df_annotated = df_annotated[df_annotated['clone'] != '5E10']\n",
    "# also remove single positives to have a fair comparison\n",
    "df_annotated['spotdetected_filtered_curated'] = df_annotated.groupby('unique_id').apply(\n",
    "    lambda cell: remove_positives(cell.spotdetected, area_size=2)).reset_index(level=0, drop=True)\n",
    "\n",
    "# merge annotated data with data from pipeline, only keep movies where both are available\n",
    "clones = ['5G7', '5F11']\n",
    "df = df_burst[df_burst['clone'].isin(clones)].reset_index(drop=True)\n",
    "df['detectiontype'] = 'pipeline'\n",
    "df_pipeline_sub = df_burst[df_burst['filename'].isin(df_annotated['filename'].unique())]\n",
    "df_pipeline_sub['detectiontype'] = 'pipeline_subset'\n",
    "\n",
    "df = pd.concat([df_annotated, df_pipeline_sub, df], ignore_index=True)\n",
    "\n",
    "# some preprocessing, as above exclude first hour and some manually excluded cells\n",
    "datatype = 'spotdetected_filtered_curated'\n",
    "\n",
    "df = df[df['frame'] >= 120]\n",
    "df = df[df['frame'] <= 600]\n",
    "df = df[df['spotdetected_filtered_curated'].notna()]\n",
    "\n",
    "#  statistics for survival probs\n",
    "# sum-up length of states\n",
    "df_signallength_comp = df.groupby(['unique_id', 'detectiontype', 'clone'], group_keys=True).apply(signallength,\n",
    "                                                                                             column=datatype).reset_index(level=['detectiontype', 'clone']).reset_index(drop=True)\n",
    "# Indicate which values are incomplete/censored\n",
    "df_signallength_comp = df_signallength_comp.groupby(['unique_id', 'detectiontype', 'clone'], group_keys=True).apply(\n",
    "    indicate_first_last, column='signal_no').reset_index(drop=True)\n",
    "\n",
    "# For KM drop left censored and non-bursting\n",
    "df_km = df_signallength_comp[df_signallength_comp.censored != 'leftcensored']\n",
    "df_km = df_km[df_km.censored != 'nonbursting']\n",
    "# keep right censored and non-censored\n",
    "df_km.loc[df_km['censored'] == 'rightcensored', 'censored'] = 0\n",
    "df_km.loc[df_km['censored'] == 'noncensored', 'censored'] = 1\n",
    "\n",
    "# For size and amplitude drop left censored and non-bursting\n",
    "df_sizeamp = df_signallength_comp[df_signallength_comp.censored != 'leftcensored']\n",
    "df_sizeamp = df_sizeamp[df_sizeamp.censored != 'rightcensored']\n",
    "df_sizeamp = df_sizeamp[df_sizeamp.censored != 'nonbursting']"
   ],
   "metadata": {
    "collapsed": false
   }
  },
  {
   "cell_type": "code",
   "execution_count": 25,
   "outputs": [
    {
     "name": "stderr",
     "output_type": "stream",
     "text": [
      "/Users/janatunnermann/miniconda3/envs/MS2analysis/lib/python3.10/site-packages/lifelines/utils/__init__.py:1185: UserWarning: Attempting to convert an unexpected datatype 'object' to float. Suggestion: 1) use `lifelines.utils.datetimes_to_durations` to do conversions or 2) manually convert to floats/booleans.\n",
      "  warnings.warn(warning_text, UserWarning)\n",
      "/Users/janatunnermann/miniconda3/envs/MS2analysis/lib/python3.10/site-packages/lifelines/utils/__init__.py:1185: UserWarning: Attempting to convert an unexpected datatype 'object' to float. Suggestion: 1) use `lifelines.utils.datetimes_to_durations` to do conversions or 2) manually convert to floats/booleans.\n",
      "  warnings.warn(warning_text, UserWarning)\n",
      "/Users/janatunnermann/miniconda3/envs/MS2analysis/lib/python3.10/site-packages/lifelines/utils/__init__.py:1185: UserWarning: Attempting to convert an unexpected datatype 'object' to float. Suggestion: 1) use `lifelines.utils.datetimes_to_durations` to do conversions or 2) manually convert to floats/booleans.\n",
      "  warnings.warn(warning_text, UserWarning)\n",
      "/Users/janatunnermann/miniconda3/envs/MS2analysis/lib/python3.10/site-packages/lifelines/utils/__init__.py:1185: UserWarning: Attempting to convert an unexpected datatype 'object' to float. Suggestion: 1) use `lifelines.utils.datetimes_to_durations` to do conversions or 2) manually convert to floats/booleans.\n",
      "  warnings.warn(warning_text, UserWarning)\n",
      "/Users/janatunnermann/miniconda3/envs/MS2analysis/lib/python3.10/site-packages/lifelines/utils/__init__.py:1185: UserWarning: Attempting to convert an unexpected datatype 'object' to float. Suggestion: 1) use `lifelines.utils.datetimes_to_durations` to do conversions or 2) manually convert to floats/booleans.\n",
      "  warnings.warn(warning_text, UserWarning)\n",
      "/Users/janatunnermann/miniconda3/envs/MS2analysis/lib/python3.10/site-packages/lifelines/utils/__init__.py:1185: UserWarning: Attempting to convert an unexpected datatype 'object' to float. Suggestion: 1) use `lifelines.utils.datetimes_to_durations` to do conversions or 2) manually convert to floats/booleans.\n",
      "  warnings.warn(warning_text, UserWarning)\n"
     ]
    },
    {
     "data": {
      "text/plain": "<Figure size 173.228x300 with 2 Axes>",
      "image/png": "[encoded data removed]"
     },
     "metadata": {},
     "output_type": "display_data"
    }
   ],
   "source": [
    "# KM on or off time\n",
    "signal = False # True for on-time, False for off-time\n",
    "df_km_times = df_km[df_km[datatype] == signal]\n",
    "\n",
    "kmf = KaplanMeierFitter()\n",
    "\n",
    "# compare annotated and pipeline\n",
    "signal_type = 'on' if signal else 'off'\n",
    "\n",
    "fig, axs = plt.subplots(2, 1, figsize=(44*mm, 2 * 1.5), sharey=True, sharex=True)\n",
    "for i, ax in enumerate(axs.ravel()):\n",
    "    clone = clones[i]\n",
    "    color_clone = colors_clones_fit[3] if clone == '5G7' else colors_clones_fit[1]\n",
    "    color_id = [color_clone, 'dimgrey', 'darkgrey']\n",
    "    for j, detection_type in enumerate(['pipeline', 'pipeline_subset', 'annotated']):\n",
    "        kmf.fit((df_km_times[(df_km_times['detectiontype'] == detection_type) & (df_km_times['clone'] == clone)][\n",
    "                     'framecount'] / 2),\n",
    "                event_observed=\n",
    "                df_km_times[(df_km_times['detectiontype'] == detection_type) & (df_km_times['clone'] == clone)][\n",
    "                    'censored'])\n",
    "        km_times = kmf.survival_function_.index.values\n",
    "        km_survival_probs = kmf.survival_function_.values\n",
    "        km_survival_probs[km_survival_probs == 0] = np.nan\n",
    "        km_ci_lower = kmf.confidence_interval_.iloc[:, 0].values\n",
    "        km_ci_lower[km_ci_lower == 0] = np.nan\n",
    "        km_ci_upper = kmf.confidence_interval_.iloc[:, 1].values\n",
    "        km_ci_upper[km_ci_upper == 0] = np.nan\n",
    "        ax.plot(km_times[1:], km_survival_probs[1:], color=color_id[j], label=detection_type)\n",
    "        ax.fill_between(km_times[1:], km_ci_lower[1:], km_ci_upper[1:], color=color_id[j], alpha=0.2)\n",
    "    ax.tick_params('x', labelbottom=True)\n",
    "    ax.set_ylabel('Survival probability')\n",
    "    ax.set_xlabel('Time (min)')\n",
    "    ax.grid(alpha=0.2)\n",
    "    ax.tick_params(axis='both', which='both', length=1.5)\n",
    "    ax.set_yscale('log')\n",
    "    ax.yaxis.set_major_formatter(ticker.FormatStrFormatter('%.3f'))\n",
    "    # ax.legend()\n",
    "    # limit = ax.get_ylim()\n",
    "# plt.ylim(bottom=limit[0])\n",
    "plt.tight_layout(pad=0.1)\n",
    "plt.subplots_adjust(hspace=0.3)\n",
    "plt.savefig(os.path.join(path_out, f'{signal_type}times_comparision.pdf'), bbox_inches='tight', transparent=True)\n",
    "plt.show()\n",
    "plt.close()"
   ],
   "metadata": {
    "collapsed": false
   }
  },
  {
   "cell_type": "code",
   "execution_count": 26,
   "outputs": [
    {
     "data": {
      "text/plain": "<Figure size 173.228x300 with 2 Axes>",
      "image/png": "[encoded data removed]"
     },
     "metadata": {},
     "output_type": "display_data"
    }
   ],
   "source": [
    "# burst size or amplitude\n",
    "metric = 'corr_tracesum'  # corr_tracemax or corr_tracesum\n",
    "clones = ['5G7', '5F11']\n",
    "detection_type = ['pipeline', 'pipeline_subset', 'annotated']\n",
    "metric_type = 'size' if 'sum' in metric else 'amplitude'\n",
    "\n",
    "# calculate confidence interval using bootstrapping\n",
    "confidence_interval = []\n",
    "for clone, detectiontype in itertools.product(clones, detection_type):\n",
    "    # calculate cdf and survival function\n",
    "    cdf = df_sizeamp[\n",
    "        (df_sizeamp[datatype] == True) & (df_sizeamp['clone'] == clone) & (\n",
    "                    df_sizeamp['detectiontype'] == detectiontype)][\n",
    "        metric].value_counts(\n",
    "        normalize=True).sort_index().cumsum()\n",
    "    cdf.reset_index()\n",
    "    survival = 1 + cdf.iloc[0] - cdf\n",
    "\n",
    "    # Number of bootstrap samples\n",
    "    num_samples = 10000  # You can adjust this as needed\n",
    "\n",
    "    # Create an array to store the bootstrapped CDF values\n",
    "    bootstrap_survivals = np.zeros((num_samples, len(survival)))\n",
    "    # Perform bootstrapping\n",
    "    for i in range(num_samples):\n",
    "        # Resample with replacement from your original data\n",
    "        bootstrap_sample = np.random.choice(survival.index, size=len(survival), replace=True)\n",
    "\n",
    "        # Calculate the CDF of the bootstrap sample\n",
    "        bootstrap_survival = pd.Series(bootstrap_sample).value_counts(normalize=True).sort_index().cumsum()\n",
    "        bootstrap_survival = 1 + bootstrap_survival.iloc[0] - bootstrap_survival\n",
    "\n",
    "        # Interpolate the bootstrap CDF to match the original CDF indices\n",
    "        bootstrap_survival = np.interp(survival.index, bootstrap_survival.index, bootstrap_survival.values)\n",
    "        bootstrap_survivals[i, :] = bootstrap_survival\n",
    "\n",
    "    # Calculate the confidence intervals\n",
    "    alpha = 0.05  # Confidence level (e.g., 95% confidence interval)\n",
    "    lower_percentile = alpha / 2 * 100\n",
    "    upper_percentile = (1 - alpha / 2) * 100\n",
    "\n",
    "    lower_bound = np.percentile(bootstrap_survivals, lower_percentile, axis=0)\n",
    "    upper_bound = np.percentile(bootstrap_survivals, upper_percentile, axis=0)\n",
    "\n",
    "    df = pd.DataFrame({'lower_bound': lower_bound, 'upper_bound': upper_bound})\n",
    "    df['clone'] = clone\n",
    "    df['detection_type'] = detectiontype\n",
    "    confidence_interval.append(df)\n",
    "confidence_interval = pd.concat(confidence_interval)\n",
    "\n",
    "# plot\n",
    "fig, axs = plt.subplots(2, 1, figsize=(44*mm, 2 * 1.5), sharey=True, sharex=True)\n",
    "for i, ax in enumerate(axs.ravel()):\n",
    "    clone = clones[i]\n",
    "    color_clone = colors_clones_fit[3] if clone == '5G7' else colors_clones_fit[1]\n",
    "    color_id = [color_clone, 'dimgrey', 'darkgrey']\n",
    "    for j, detection_type in enumerate(['pipeline', 'pipeline_subset', 'annotated']):\n",
    "        cdf = df_sizeamp[\n",
    "            (df_sizeamp[datatype] == True) & (df_sizeamp['clone'] == clone) & (\n",
    "                        df_sizeamp['detectiontype'] == detection_type)][\n",
    "            metric].value_counts(normalize=True).sort_index().cumsum()\n",
    "        survival = 1 + cdf.iloc[0] - cdf\n",
    "        ax.plot(survival, linewidth=1, label=detection_type, color=color_id[j])\n",
    "        ax.fill_between(survival.index, confidence_interval[\n",
    "            (confidence_interval['clone'] == clone) & (confidence_interval['detection_type'] == detection_type)][\n",
    "            'lower_bound'],\n",
    "                        confidence_interval[(confidence_interval['clone'] == clone) & (\n",
    "                                    confidence_interval['detection_type'] == detection_type)]['upper_bound'], alpha=0.2,\n",
    "                        color=color_id[j])\n",
    "    ax.tick_params('x', labelbottom=True)\n",
    "    ax.set_ylabel('Survival probability')\n",
    "    ax.set_xlabel('Intensity (a.u.)')\n",
    "    ax.grid(alpha=0.2)\n",
    "    ax.tick_params(axis='both', which='both', length=1.5)\n",
    "    ax.set_yscale('log')\n",
    "    ax.yaxis.set_major_formatter(ticker.FormatStrFormatter('%.3f'))\n",
    "    # ax.legend()\n",
    "plt.tight_layout(pad=0.1)\n",
    "plt.subplots_adjust(hspace=0.3)\n",
    "plt.savefig(os.path.join(path_out, f'burst{metric_type}_comparision.pdf'), bbox_inches='tight', transparent=True)\n",
    "plt.show()\n",
    "plt.close()"
   ],
   "metadata": {
    "collapsed": false
   }
  },
  {
   "cell_type": "markdown",
   "source": [
    "# Figure 3"
   ],
   "metadata": {
    "collapsed": false
   }
  },
  {
   "cell_type": "code",
   "execution_count": 27,
   "outputs": [],
   "source": [
    "# Burst frequency and CV calculation\n",
    "df_signalcount = df_signallength[['unique_id', datatype]].groupby('unique_id').value_counts().reset_index()\n",
    "df_signalcount.columns = ['unique_id', datatype, 'no_of_events']\n",
    "df_signalcount['clone'] = df_signalcount['unique_id'].map(df_burst.groupby(['unique_id'])['clone'].first())\n",
    "df_signalcount['track_length'] = df_signalcount['unique_id'].map(df_burst.groupby(['unique_id']).size())\n",
    "\n",
    "# calculate burst frequency\n",
    "df_burstfrequency = df_signalcount.sort_values(by=datatype, ascending=False)\n",
    "df_burstfrequency = df_burstfrequency.drop_duplicates(subset='unique_id')\n",
    "# select rows where spotdetected curated is false and set no_of_events to 0\n",
    "df_burstfrequency.loc[df_burstfrequency[df_burstfrequency[datatype] == False].index, 'no_of_events'] = 0\n",
    "df_burstfrequency['burst_frequency_perh'] = df_burstfrequency['no_of_events'] / (\n",
    "        df_burstfrequency['track_length'] / 120)\n",
    "\n",
    "df_burstfrequency_avg = df_burstfrequency.groupby('clone')['burst_frequency_perh'].describe().reset_index()\n",
    "df_burstfrequency_avg = df_burstfrequency_avg.merge(df_positions[['clone', 'distance', 'cp']], on='clone', how='left')\n",
    "df_burstfrequency_avg = df_burstfrequency_avg.merge(colors_clones_all)"
   ],
   "metadata": {
    "collapsed": false
   }
  },
  {
   "cell_type": "code",
   "execution_count": 28,
   "outputs": [
    {
     "data": {
      "text/plain": "<Figure size 157x100 with 1 Axes>",
      "image/png": "[encoded data removed]"
     },
     "metadata": {},
     "output_type": "display_data"
    }
   ],
   "source": [
    "# Plot burst frequency with trendline\n",
    "# scale trend-line to min and max value from my experiment (maybe fit instead?)\n",
    "df_trendline_scaled = df_trendline.copy()\n",
    "min_value, min_cp = df_burstfrequency_avg.loc[df_burstfrequency_avg['clone'] == '6G3', ['mean', 'cp']].values[0]\n",
    "max_value, max_cp = df_burstfrequency_avg.loc[df_burstfrequency_avg['clone'] == '5G7', ['mean', 'cp']].values[0]\n",
    "min_original = df_trendline_scaled.loc[df_trendline_scaled.iloc[:, 0] == 0, df_trendline_scaled.columns[1]].values[0]\n",
    "max_original = df_trendline_scaled.loc[df_trendline_scaled.iloc[:, 0] == 0.99, df_trendline_scaled.columns[1]].values[0]\n",
    "m = (max_value - min_value) / (max_original - min_original)\n",
    "b = min_value - m * min_original\n",
    "df_trendline_scaled['y_scaled'] = m * df_trendline_scaled.iloc[:, 1] + b\n",
    "\n",
    "# plot burst frequency and cp\n",
    "plt.figure(figsize=(1.57, 1))\n",
    "plt.scatter(df_burstfrequency_avg['cp'], df_burstfrequency_avg['mean'], color=df_burstfrequency_avg['color'], edgecolor ='black', linewidths=0.25, zorder=3, s=10)\n",
    "plt.plot(df_trendline_scaled[0], df_trendline_scaled['y_scaled'], color='purple', alpha=0.6, linewidth=1, zorder=1)\n",
    "plt.grid(alpha=0.2, zorder=0)\n",
    "x_ticks = np.linspace(0, 1, 5)\n",
    "plt.xticks(x_ticks)\n",
    "plt.tick_params(axis='both', which='both', length=1.5)\n",
    "plt.xlabel('Contact probability')\n",
    "plt.ylabel('Burst frequency\\n(counts/hour)')\n",
    "plt.tight_layout(pad=0.1)\n",
    "axes = plt.gca()\n",
    "x_limits = axes.get_xlim()\n",
    "plt.savefig(os.path.join(path_out, 'burstfreq_trendline_colored.pdf'), bbox_inches='tight', transparent=True)\n",
    "plt.show()\n",
    "plt.close()"
   ],
   "metadata": {
    "collapsed": false
   }
  },
  {
   "cell_type": "code",
   "execution_count": 29,
   "outputs": [
    {
     "data": {
      "text/plain": "<Figure size 157x100 with 1 Axes>",
      "image/png": "[encoded data removed]"
     },
     "metadata": {},
     "output_type": "display_data"
    }
   ],
   "source": [
    "# plot cv burst frequency\n",
    "plt.figure(figsize=(1.57, 1))\n",
    "df_burstfrequency_avg['cv'] = df_burstfrequency_avg['std'] / df_burstfrequency_avg['mean']\n",
    "plt.scatter(df_burstfrequency_avg['cp'], df_burstfrequency_avg['cv'], color=df_burstfrequency_avg['color'], edgecolor ='black', linewidths=0.25, zorder=3, s=10)\n",
    "plt.grid(alpha=0.2, zorder=1)\n",
    "plt.xlabel('Contact probability')\n",
    "plt.ylabel('Cell-to-cell\\nvariability')\n",
    "x_ticks = np.linspace(0, 1, 5)\n",
    "plt.xticks(x_ticks)\n",
    "plt.ylim(-0.5, 11)\n",
    "plt.xlim(x_limits)\n",
    "plt.tick_params(axis='both', which='both', length=1.5)\n",
    "plt.tight_layout(pad=0.1)\n",
    "plt.savefig(os.path.join(path_out, 'cv_burstfreq.pdf'), bbox_inches='tight', transparent=True)\n",
    "plt.show()\n",
    "plt.close()"
   ],
   "metadata": {
    "collapsed": false
   }
  },
  {
   "cell_type": "code",
   "execution_count": 30,
   "outputs": [
    {
     "data": {
      "text/plain": "<Figure size 157.48x100.394 with 1 Axes>",
      "image/png": "[encoded data removed]"
     },
     "metadata": {},
     "output_type": "display_data"
    }
   ],
   "source": [
    "# Kymograph of spotdetected per clone\n",
    "selected_clone = '5G7' # either 5G7 or 5F11\n",
    "distance = '5 kb' if selected_clone == '5G7' else '149 kb'\n",
    "df_clone = df_burst[(df_burst['clone'] == selected_clone)]\n",
    "# only select long traces\n",
    "df_clone = df_clone.groupby('unique_id').filter(lambda x: x.frame.count() >= 480)\n",
    "\n",
    "kymograph = df_clone.pivot(index='unique_id', columns='frame', values='spotdetected_filtered_curated')\n",
    "kymograph.dropna(axis=0, how='all', inplace=True)\n",
    "kymograph = kymograph.fillna(5).astype(int)\n",
    "kymograph.replace(5, np.nan, inplace=True)\n",
    "\n",
    "# sort based on number of bursts\n",
    "kymograph['count_ones'] = kymograph.sum(axis=1)\n",
    "kymograph = kymograph.sort_values(by='count_ones', ascending=False)\n",
    "kymograph = kymograph.drop(columns='count_ones')\n",
    "\n",
    "plt.figure(figsize=(40*mm, 25.5*mm))\n",
    "plt.imshow(kymograph, cmap='viridis', aspect='auto', interpolation='none')\n",
    "x_ticks = np.arange(0, kymograph.shape[1], 100).astype(int)\n",
    "plt.xticks(x_ticks, (x_ticks / 2).astype(int))\n",
    "plt.tick_params(axis='both', which='both', length=1.5)\n",
    "plt.grid(False)\n",
    "plt.ylabel(f'Clone {distance} cell ID')\n",
    "plt.xlabel('Time (min)')\n",
    "plt.tight_layout(pad=0.1)\n",
    "plt.savefig(os.path.join(path_out, f'kymograph_{selected_clone}.pdf'), bbox_inches='tight', transparent=True)\n",
    "plt.show()\n",
    "plt.close()"
   ],
   "metadata": {
    "collapsed": false
   }
  },
  {
   "cell_type": "markdown",
   "source": [
    "# Supplement 3"
   ],
   "metadata": {
    "collapsed": false
   }
  },
  {
   "cell_type": "code",
   "execution_count": 39,
   "outputs": [
    {
     "data": {
      "text/plain": "<Figure size 433.071x98.4252 with 5 Axes>",
      "image/png": "[encoded data removed]"
     },
     "metadata": {},
     "output_type": "display_data"
    }
   ],
   "source": [
    "# Histogramm of no. mRNA per cell, split in low and high expressing clones to adjust for y-axis\n",
    "# Plot eithr high or low expressing cells\n",
    "clones_low = ['E14ddCTCF', '6G3', '5E10']\n",
    "clones_high = ['5F11', '5B10', '5G3', '6A12', '5G7']\n",
    "chosen_clones = clones_high\n",
    "\n",
    "if chosen_clones == clones_low:\n",
    "    category_clones = 'low'\n",
    "else:\n",
    "    category_clones = 'high'\n",
    "grouped_clone = df_fish_avgcell[df_fish_avgcell['clone'].isin(chosen_clones)].groupby(['clone'])\n",
    "\n",
    "bin_width = 3\n",
    "fig, axes = plt.subplots(nrows=1, ncols=5, figsize=(110 * mm, 25 * mm), sharex=True, sharey=True)\n",
    "# Flatten the 2D array of subplots to a 1D array\n",
    "axes = axes.flatten()\n",
    "for i, name in enumerate(chosen_clones):\n",
    "    if name in grouped_clone.groups:\n",
    "        group = grouped_clone.get_group(name)\n",
    "    ax = axes[i]\n",
    "    bins = np.arange(group['spots_per_cell'].min(), group['spots_per_cell'].max() + bin_width, bin_width)\n",
    "    # Calculate histograms for each date for getting errorbars\n",
    "    grouped_date = group.groupby('date')\n",
    "    histograms_date = []\n",
    "    for date, date_group in grouped_date:\n",
    "        counts, _ = np.histogram(date_group['spots_per_cell'], bins=bins, density=False)\n",
    "        histograms_date.append(counts)\n",
    "    histograms_date = np.array(histograms_date)\n",
    "    # Calculate mean and std dev for each bin\n",
    "    mean_counts = histograms_date.mean(axis=0)\n",
    "    std_counts = histograms_date.std(axis=0)\n",
    "    # Convert counts to densities\n",
    "    bin_areas = np.diff(bins) * len(group)\n",
    "    densities = mean_counts / bin_areas\n",
    "    density_errors = std_counts / bin_areas\n",
    "    # Plot the bar plot with error bars as densities\n",
    "    bin_centers = 0.5 * (bins[1:] + bins[:-1])  # Get bin centers\n",
    "    ax.bar(bin_centers, densities, width=bin_width, yerr=density_errors, capsize=0,\n",
    "           color='lightgray', edgecolor='gray', linewidth=0.5, error_kw={'elinewidth': 0.5})\n",
    "    ax.set_title(f'{name}')\n",
    "    #ax.set_xlabel('mRNA number per cell')\n",
    "    # ax.set_xlim(-4.95, 103.95)\n",
    "    if i == 0:\n",
    "        ax.set_ylabel('Frequency')\n",
    "    ax.tick_params(axis='both', which='both', length=1.5)\n",
    "    x_ticks = [bin_centers[0], bin_centers[-1], bin_centers[len(bin_centers) // 2]]\n",
    "    x_ticks_labels = [bins[1], bins[-1], bins[len(bins) // 2]]\n",
    "    plt.xticks(x_ticks, x_ticks_labels)\n",
    "    fig.text(0.5, -0.1, 'mRNA number per cell', ha='center')\n",
    "if chosen_clones == clones_low:\n",
    "    for i in [3, 4]:\n",
    "        fig.delaxes(axes[i])\n",
    "\n",
    "plt.tight_layout(pad=0.1)\n",
    "plt.savefig(os.path.join(path_out, f'FISH_hist_clones_{category_clones}.pdf'), bbox_inches='tight', transparent=True)\n",
    "plt.show()\n",
    "plt.close()"
   ],
   "metadata": {
    "collapsed": false
   }
  },
  {
   "cell_type": "code",
   "execution_count": 42,
   "outputs": [
    {
     "data": {
      "text/plain": "<Figure size 185.039x118.11 with 1 Axes>",
      "image/png": "[encoded data removed]"
     },
     "metadata": {},
     "output_type": "display_data"
    }
   ],
   "source": [
    "# Mean mRNA as function of cp\n",
    "df_fish_avg = df_fish_avgcell.groupby('clone')['spots_per_cell'].describe().reset_index()\n",
    "df_fish_avg = df_fish_avg.merge(df_positions[['clone', 'distance', 'cp']], on='clone')\n",
    "\n",
    "# scale trend-line to min and max value from my experiment (maybe fit instead?)\n",
    "df_trendline_scaled = df_trendline.copy()\n",
    "min_value, min_cp = df_fish_avg.loc[df_fish_avg['clone'] == '6G3', ['mean', 'cp']].values[0]\n",
    "max_cp = 1\n",
    "max_value = df_fish_avg.loc[df_fish_avg['cp'] == max_cp, ['mean']].mean().values[0]\n",
    "min_original = df_trendline_scaled.loc[df_trendline_scaled.iloc[:, 0] == 0, df_trendline_scaled.columns[1]].values[0]\n",
    "max_original = df_trendline_scaled.loc[df_trendline_scaled.iloc[:, 0] == 0.99, df_trendline_scaled.columns[1]].values[0]\n",
    "m = (max_value - min_value) / (max_original - min_original)\n",
    "b = min_value - m * min_original\n",
    "df_trendline_scaled['y_scaled'] = m * df_trendline_scaled.iloc[:, 1] + b\n",
    "\n",
    "# plot mean mrna per cell - cp\n",
    "plt.figure(figsize=(47* mm, 30 * mm))\n",
    "plt.errorbar(df_fish_avg['cp'], df_fish_avg['mean'], yerr=df_fish_avg['std'], fmt=\"o\", color='black', markersize=1,\n",
    "             capsize=1,  # Size of the error bar caps\n",
    "             capthick=0.5,  # Thickness of the error bar caps\n",
    "             elinewidth=0.5)\n",
    "plt.plot(df_trendline_scaled[0], df_trendline_scaled['y_scaled'], color='purple', alpha=0.6, linewidth=1)\n",
    "plt.grid(alpha=0.2)\n",
    "x_ticks = np.linspace(0, 1, 5)\n",
    "plt.xticks(x_ticks)\n",
    "plt.tick_params(axis='both', which='both', length=1.5)  # Adjust tick length\n",
    "plt.xlabel('Contact probability')\n",
    "plt.ylabel('Mean mRNA number\\nper cell')\n",
    "plt.tight_layout(pad=0.1)\n",
    "plt.savefig(os.path.join(path_out, 'FISH_trendline.pdf'), bbox_inches='tight', transparent=True)\n",
    "plt.show()\n",
    "plt.close()"
   ],
   "metadata": {
    "collapsed": false
   }
  },
  {
   "cell_type": "code",
   "execution_count": 48,
   "outputs": [
    {
     "ename": "KeyError",
     "evalue": "\"None of ['clone'] are in the columns\"",
     "output_type": "error",
     "traceback": [
      "\u001B[0;31m---------------------------------------------------------------------------\u001B[0m",
      "\u001B[0;31mKeyError\u001B[0m                                  Traceback (most recent call last)",
      "\u001B[0;32m/var/folders/xw/97j8jgvs0jj4vght5r2xkt1h0000gp/T/ipykernel_29278/808691467.py\u001B[0m in \u001B[0;36m?\u001B[0;34m()\u001B[0m\n\u001B[1;32m      1\u001B[0m \u001B[0;31m# bit pre-processing for correlation plots\u001B[0m\u001B[0;34m\u001B[0m\u001B[0;34m\u001B[0m\u001B[0m\n\u001B[1;32m      2\u001B[0m \u001B[0mdf_fish_avg\u001B[0m \u001B[0;34m=\u001B[0m \u001B[0mdf_fish_avgcell\u001B[0m\u001B[0;34m.\u001B[0m\u001B[0mgroupby\u001B[0m\u001B[0;34m(\u001B[0m\u001B[0;34m'clone'\u001B[0m\u001B[0;34m)\u001B[0m\u001B[0;34m[\u001B[0m\u001B[0;34m'spots_per_cell'\u001B[0m\u001B[0;34m]\u001B[0m\u001B[0;34m.\u001B[0m\u001B[0mdescribe\u001B[0m\u001B[0;34m(\u001B[0m\u001B[0;34m)\u001B[0m\u001B[0;34m\u001B[0m\u001B[0;34m\u001B[0m\u001B[0m\n\u001B[1;32m      3\u001B[0m \u001B[0mdf_facs_exp_avg\u001B[0m \u001B[0;34m=\u001B[0m \u001B[0mdf_facs_exp\u001B[0m\u001B[0;34m.\u001B[0m\u001B[0mgroupby\u001B[0m\u001B[0;34m(\u001B[0m\u001B[0;34m'Clone'\u001B[0m\u001B[0;34m)\u001B[0m\u001B[0;34m[\u001B[0m\u001B[0;34m'Mean'\u001B[0m\u001B[0;34m]\u001B[0m\u001B[0;34m.\u001B[0m\u001B[0mdescribe\u001B[0m\u001B[0;34m(\u001B[0m\u001B[0;34m)\u001B[0m\u001B[0;34m\u001B[0m\u001B[0;34m\u001B[0m\u001B[0m\n\u001B[0;32m----> 4\u001B[0;31m \u001B[0mdf_burstfrequency_avg\u001B[0m\u001B[0;34m.\u001B[0m\u001B[0mset_index\u001B[0m\u001B[0;34m(\u001B[0m\u001B[0;34m'clone'\u001B[0m\u001B[0;34m,\u001B[0m \u001B[0minplace\u001B[0m\u001B[0;34m=\u001B[0m\u001B[0;32mTrue\u001B[0m\u001B[0;34m)\u001B[0m\u001B[0;34m\u001B[0m\u001B[0;34m\u001B[0m\u001B[0m\n\u001B[0m\u001B[1;32m      5\u001B[0m \u001B[0mdf_facs_plate\u001B[0m\u001B[0;34m.\u001B[0m\u001B[0mset_index\u001B[0m\u001B[0;34m(\u001B[0m\u001B[0;34m'clone'\u001B[0m\u001B[0;34m,\u001B[0m \u001B[0minplace\u001B[0m\u001B[0;34m=\u001B[0m\u001B[0;32mTrue\u001B[0m\u001B[0;34m)\u001B[0m\u001B[0;34m\u001B[0m\u001B[0;34m\u001B[0m\u001B[0m\n",
      "\u001B[0;32m~/miniconda3/envs/MS2analysis/lib/python3.10/site-packages/pandas/util/_decorators.py\u001B[0m in \u001B[0;36m?\u001B[0;34m(*args, **kwargs)\u001B[0m\n\u001B[1;32m    327\u001B[0m                     \u001B[0mmsg\u001B[0m\u001B[0;34m.\u001B[0m\u001B[0mformat\u001B[0m\u001B[0;34m(\u001B[0m\u001B[0marguments\u001B[0m\u001B[0;34m=\u001B[0m\u001B[0m_format_argument_list\u001B[0m\u001B[0;34m(\u001B[0m\u001B[0mallow_args\u001B[0m\u001B[0;34m)\u001B[0m\u001B[0;34m)\u001B[0m\u001B[0;34m,\u001B[0m\u001B[0;34m\u001B[0m\u001B[0;34m\u001B[0m\u001B[0m\n\u001B[1;32m    328\u001B[0m                     \u001B[0mFutureWarning\u001B[0m\u001B[0;34m,\u001B[0m\u001B[0;34m\u001B[0m\u001B[0;34m\u001B[0m\u001B[0m\n\u001B[1;32m    329\u001B[0m                     \u001B[0mstacklevel\u001B[0m\u001B[0;34m=\u001B[0m\u001B[0mfind_stack_level\u001B[0m\u001B[0;34m(\u001B[0m\u001B[0;34m)\u001B[0m\u001B[0;34m,\u001B[0m\u001B[0;34m\u001B[0m\u001B[0;34m\u001B[0m\u001B[0m\n\u001B[1;32m    330\u001B[0m                 )\n\u001B[0;32m--> 331\u001B[0;31m             \u001B[0;32mreturn\u001B[0m \u001B[0mfunc\u001B[0m\u001B[0;34m(\u001B[0m\u001B[0;34m*\u001B[0m\u001B[0margs\u001B[0m\u001B[0;34m,\u001B[0m \u001B[0;34m**\u001B[0m\u001B[0mkwargs\u001B[0m\u001B[0;34m)\u001B[0m\u001B[0;34m\u001B[0m\u001B[0;34m\u001B[0m\u001B[0m\n\u001B[0m",
      "\u001B[0;32m~/miniconda3/envs/MS2analysis/lib/python3.10/site-packages/pandas/core/frame.py\u001B[0m in \u001B[0;36m?\u001B[0;34m(self, keys, drop, append, inplace, verify_integrity)\u001B[0m\n\u001B[1;32m   6008\u001B[0m                     \u001B[0;32mif\u001B[0m \u001B[0;32mnot\u001B[0m \u001B[0mfound\u001B[0m\u001B[0;34m:\u001B[0m\u001B[0;34m\u001B[0m\u001B[0;34m\u001B[0m\u001B[0m\n\u001B[1;32m   6009\u001B[0m                         \u001B[0mmissing\u001B[0m\u001B[0;34m.\u001B[0m\u001B[0mappend\u001B[0m\u001B[0;34m(\u001B[0m\u001B[0mcol\u001B[0m\u001B[0;34m)\u001B[0m\u001B[0;34m\u001B[0m\u001B[0;34m\u001B[0m\u001B[0m\n\u001B[1;32m   6010\u001B[0m \u001B[0;34m\u001B[0m\u001B[0m\n\u001B[1;32m   6011\u001B[0m         \u001B[0;32mif\u001B[0m \u001B[0mmissing\u001B[0m\u001B[0;34m:\u001B[0m\u001B[0;34m\u001B[0m\u001B[0;34m\u001B[0m\u001B[0m\n\u001B[0;32m-> 6012\u001B[0;31m             \u001B[0;32mraise\u001B[0m \u001B[0mKeyError\u001B[0m\u001B[0;34m(\u001B[0m\u001B[0;34mf\"None of {missing} are in the columns\"\u001B[0m\u001B[0;34m)\u001B[0m\u001B[0;34m\u001B[0m\u001B[0;34m\u001B[0m\u001B[0m\n\u001B[0m\u001B[1;32m   6013\u001B[0m \u001B[0;34m\u001B[0m\u001B[0m\n\u001B[1;32m   6014\u001B[0m         \u001B[0;32mif\u001B[0m \u001B[0minplace\u001B[0m\u001B[0;34m:\u001B[0m\u001B[0;34m\u001B[0m\u001B[0;34m\u001B[0m\u001B[0m\n\u001B[1;32m   6015\u001B[0m             \u001B[0mframe\u001B[0m \u001B[0;34m=\u001B[0m \u001B[0mself\u001B[0m\u001B[0;34m\u001B[0m\u001B[0;34m\u001B[0m\u001B[0m\n",
      "\u001B[0;31mKeyError\u001B[0m: \"None of ['clone'] are in the columns\""
     ]
    }
   ],
   "source": [
    "# bit pre-processing for correlation plots\n",
    "df_fish_avg = df_fish_avgcell.groupby('clone')['spots_per_cell'].describe()\n",
    "df_facs_exp_avg = df_facs_exp.groupby('Clone')['Mean'].describe()\n",
    "df_burstfrequency_avg.set_index('clone', inplace=True)\n",
    "df_facs_plate.set_index('clone', inplace=True)"
   ],
   "metadata": {
    "collapsed": false
   }
  },
  {
   "cell_type": "code",
   "execution_count": 49,
   "outputs": [
    {
     "name": "stdout",
     "output_type": "stream",
     "text": [
      "0.8443189890300958\n"
     ]
    },
    {
     "name": "stderr",
     "output_type": "stream",
     "text": [
      "/Users/janatunnermann/.local/lib/python3.10/site-packages/seaborn/_decorators.py:36: FutureWarning: Pass the following variables as keyword args: x, y. From version 0.12, the only valid positional argument will be `data`, and passing other arguments without an explicit keyword will result in an error or misinterpretation.\n",
      "  warnings.warn(\n"
     ]
    },
    {
     "data": {
      "text/plain": "<Figure size 129.921x118.11 with 1 Axes>",
      "image/png": "[encoded data removed]"
     },
     "metadata": {},
     "output_type": "display_data"
    }
   ],
   "source": [
    "# Comparison - mean mRNA count and protein level flow cytometry\n",
    "common_index = df_fish_avg.index.intersection(df_facs_plate.index)\n",
    "df_fish_avg_com = df_fish_avg.loc[common_index]\n",
    "df_facs_plate_com = df_facs_plate.loc[common_index]\n",
    "r2 = stats.pearsonr(df_fish_avg_com['mean'], df_facs_plate_com['Mean'])[0] ** 2\n",
    "print(r2)\n",
    "\n",
    "fig, ax = plt.subplots(figsize=(33 * mm, 30 * mm))\n",
    "sns.regplot(df_fish_avg_com['mean'], df_facs_plate_com['Mean'], ci=None, color='black',\n",
    "            label=f'R$^2$={round(r2, 2)}', scatter_kws={'s': 10, 'linewidths': 0, 'alpha': 1, 'zorder': 2},\n",
    "            line_kws={'linewidth': 1, 'zorder': 3})\n",
    "plt.xlabel('Mean mRNA number\\nper cell')\n",
    "plt.ylabel('Mean EGFP intensity\\nflow cytometry (a.u.)')\n",
    "# plt.legend(loc='lower right')\n",
    "plt.grid(alpha=0.2, zorder=1)\n",
    "plt.tick_params(axis='both', which='both', length=1.5)\n",
    "plt.tight_layout(pad=0.1)\n",
    "plt.savefig(os.path.join(path_out, 'corr_plate_mRNA.pdf'), bbox_inches='tight', transparent=True)\n",
    "plt.show()\n",
    "plt.close()"
   ],
   "metadata": {
    "collapsed": false
   }
  },
  {
   "cell_type": "code",
   "execution_count": 50,
   "outputs": [
    {
     "name": "stdout",
     "output_type": "stream",
     "text": [
      "0.9795620687669168\n"
     ]
    },
    {
     "name": "stderr",
     "output_type": "stream",
     "text": [
      "/Users/janatunnermann/.local/lib/python3.10/site-packages/seaborn/_decorators.py:36: FutureWarning: Pass the following variables as keyword args: x, y. From version 0.12, the only valid positional argument will be `data`, and passing other arguments without an explicit keyword will result in an error or misinterpretation.\n",
      "  warnings.warn(\n"
     ]
    },
    {
     "data": {
      "text/plain": "<Figure size 133.858x118.11 with 1 Axes>",
      "image/png": "[encoded data removed]"
     },
     "metadata": {},
     "output_type": "display_data"
    }
   ],
   "source": [
    "# Comparison - mean mRNA count and protein level microscopy\n",
    "common_index = df_fish_avg.index.intersection(df_gfp_live.index)\n",
    "df_fish_avg_com = df_fish_avg.loc[common_index]\n",
    "df_gfp_live_com = df_gfp_live.loc[common_index]\n",
    "r2 = stats.pearsonr(df_fish_avg_com['mean'], df_gfp_live_com['mean'])[0] ** 2\n",
    "print(r2)\n",
    "\n",
    "fig, ax = plt.subplots(figsize=(34 * mm, 30 * mm))\n",
    "sns.regplot(df_fish_avg_com['mean'], df_gfp_live_com['mean'], ci=None, color='black',\n",
    "            label=f'R$^2$={round(r2, 2)}', scatter_kws={'s': 10, 'linewidths': 0, 'alpha': 1, 'zorder': 2},\n",
    "            line_kws={'linewidth': 1, 'zorder': 3})\n",
    "plt.xlabel('Mean mRNA number\\nper cell')\n",
    "plt.ylabel('Mean EGFP intensity\\nmicroscopy (a.u.)')\n",
    "# plt.legend(loc='lower right')\n",
    "plt.grid(alpha=0.2, zorder=1)\n",
    "plt.tick_params(axis='both', which='both', length=1.5)\n",
    "plt.tight_layout(pad=0.1)\n",
    "plt.savefig(os.path.join(path_out, 'corr_proteinmicroscopy_mRNA.pdf'), bbox_inches='tight', transparent=True)\n",
    "plt.show()\n",
    "plt.close()"
   ],
   "metadata": {
    "collapsed": false
   }
  },
  {
   "cell_type": "code",
   "execution_count": 51,
   "outputs": [
    {
     "name": "stderr",
     "output_type": "stream",
     "text": [
      "/Users/janatunnermann/.local/lib/python3.10/site-packages/seaborn/_decorators.py:36: FutureWarning: Pass the following variables as keyword args: x, y. From version 0.12, the only valid positional argument will be `data`, and passing other arguments without an explicit keyword will result in an error or misinterpretation.\n",
      "  warnings.warn(\n"
     ]
    },
    {
     "data": {
      "text/plain": "<Figure size 129.921x118.11 with 1 Axes>",
      "image/png": "[encoded data removed]"
     },
     "metadata": {},
     "output_type": "display_data"
    }
   ],
   "source": [
    "# Comparison - mean mRNA count and protein level\n",
    "# burst frequency and FISH data\n",
    "common_index = df_fish_avg.index.intersection(df_burstfrequency_avg.index)\n",
    "df_fish_avg_com = df_fish_avg.loc[common_index]\n",
    "df_burstfrequency_avg_com = df_burstfrequency_avg.loc[common_index]\n",
    "r2 = stats.pearsonr(df_fish_avg_com['mean'], df_burstfrequency_avg_com['mean'])[0] ** 2\n",
    "\n",
    "fig, ax = plt.subplots(figsize=(33 * mm, 30 * mm))\n",
    "sns.regplot(df_fish_avg_com['mean'], df_burstfrequency_avg_com['mean'], ci=None, color='black',\n",
    "            label=f'R$^2$={round(r2, 2)}', scatter_kws={'s': 10, 'linewidths': 0, 'alpha': 1, 'zorder': 2},\n",
    "            line_kws={'linewidth': 1, 'zorder': 3})\n",
    "plt.xlabel('Mean mRNA number\\nper cell')\n",
    "plt.ylabel('Avg burst frequency\\n(counts/hour)')\n",
    "# plt.legend(loc='lower right')\n",
    "plt.grid(alpha=0.2, zorder=1)\n",
    "plt.tick_params(axis='both', which='both', length=1.5)\n",
    "plt.tight_layout(pad=0.1)\n",
    "plt.savefig(os.path.join(path_out, 'corr_burstfreq_mRNA.pdf'), bbox_inches='tight', transparent=True)\n",
    "plt.show()\n",
    "plt.close()"
   ],
   "metadata": {
    "collapsed": false
   }
  },
  {
   "cell_type": "code",
   "execution_count": 56,
   "outputs": [
    {
     "data": {
      "text/plain": "<Figure size 377.953x102.362 with 3 Axes>",
      "image/png": "[encoded data removed]"
     },
     "metadata": {},
     "output_type": "display_data"
    },
    {
     "data": {
      "text/plain": "<Figure size 354.331x102.362 with 3 Axes>",
      "image/png": "[encoded data removed]"
     },
     "metadata": {},
     "output_type": "display_data"
    }
   ],
   "source": [
    "# QQ plots for before and after z-score normalisation\n",
    "df_qq = df_fish_TS.dropna(subset=['zscore'])\n",
    "samples = ['202309215G3', '202309205F11', '202309145E10']\n",
    "samples_names = [\n",
    "    sub.replace('202309215G3', 'clone 5G3, replicate 3').replace('202309205F11', 'clone 5F11, replicate 2').replace(\n",
    "        '202309145E10', 'clone 5E10, replicate 1') for sub in samples]\n",
    "sample_combinations = list(itertools.combinations(samples, 2))\n",
    "sample_combinations_names = list(itertools.combinations(samples_names, 2))\n",
    "\n",
    "fig, axes = plt.subplots(nrows=1, ncols=3, figsize=(96*mm , 26*mm))\n",
    "axes = axes.flatten()\n",
    "for combination, name in zip(sample_combinations, sample_combinations_names):\n",
    "    ax = axes[sample_combinations.index(combination)]\n",
    "    sm.qqplot_2samples(df_qq[df_qq['sample'] == combination[0]]['spot_max'],\n",
    "                       df_qq[df_qq['sample'] == combination[1]]['spot_max'], line='45', ax=ax)\n",
    "    for line in ax.get_lines():\n",
    "        line.set_markersize(2)\n",
    "    ax.set_ylabel(f'{name[0]}')\n",
    "    ax.set_xlabel(f'{name[1]}')\n",
    "    ax.grid(alpha=0.2)\n",
    "    ax.tick_params(axis='both', which='both', length=1.5)\n",
    "plt.tight_layout(pad=0.1, w_pad=2)\n",
    "plt.savefig(os.path.join(path_out, f'QQ-plots_example_before.pdf'), bbox_inches='tight', transparent=True)\n",
    "plt.show()\n",
    "plt.close()\n",
    "\n",
    "# example QQ plots for corrected zscores\n",
    "fig, axes = plt.subplots(nrows=1, ncols=3, figsize=(90*mm , 26*mm))\n",
    "axes = axes.flatten()\n",
    "for combination, name in zip(sample_combinations, sample_combinations_names):\n",
    "    ax = axes[sample_combinations.index(combination)]\n",
    "    sm.qqplot_2samples(df_qq[df_qq['sample'] == combination[0]]['zscore'],\n",
    "                       df_qq[df_qq['sample'] == combination[1]]['zscore'], line='45', ax=ax)\n",
    "    for line in ax.get_lines():\n",
    "        line.set_markersize(2)\n",
    "    ax.set_ylabel(f'{name[0]}')\n",
    "    ax.set_xlabel(f'{name[1]}')\n",
    "    ax.grid(alpha=0.2)\n",
    "    ax.tick_params(axis='both', which='both', length=1.5)\n",
    "plt.tight_layout(pad=0.1, w_pad=2)\n",
    "plt.savefig(os.path.join(path_out, f'QQ-plots_example_after.pdf'), bbox_inches='tight', transparent=True)\n",
    "plt.show()\n",
    "plt.close()"
   ],
   "metadata": {
    "collapsed": false
   }
  },
  {
   "cell_type": "code",
   "execution_count": 10,
   "outputs": [
    {
     "data": {
      "text/plain": "<Figure size 157x157 with 2 Axes>",
      "image/png": "[encoded data removed]"
     },
     "metadata": {},
     "output_type": "display_data"
    }
   ],
   "source": [
    "# CGroundtruth data with gaussian fit and threshold for TSS classification\n",
    "fig, ax1 = plt.subplots(figsize=(1.57, 1.57))\n",
    "sns.histplot(df_fish_TS_groundtruth[df_fish_TS_groundtruth['TS_groundtruth'] == 'singlemRNA'],\n",
    "             x='zscore', bins=100, stat='density', ax=ax1, label='singlemRNA', edgecolor=None, zorder=2)\n",
    "ax1.plot(x_tss, stats.norm.pdf(x_tss, mu_tss, sigma_tss), label='Gaussian fit', color='black', linewidth=1, zorder=3)\n",
    "# Create a second y-axis that shares the same x-axis\n",
    "ax1.set_ylabel('Density count single mRNA')\n",
    "ax2 = ax1.twinx()\n",
    "sns.histplot(df_fish_TS_groundtruth[df_fish_TS_groundtruth['TS_groundtruth'] == 'TS'],\n",
    "             x='zscore', bins=100, stat='density', color='orange', ax=ax2, label='TS', edgecolor=None,  zorder=2)\n",
    "ax2.set_ylim(0, 20)\n",
    "ax2.set_ylabel('Density count TSS')\n",
    "# create single legend\n",
    "handles1, labels1 = ax1.get_legend_handles_labels()\n",
    "handles2, labels2 = ax2.get_legend_handles_labels()\n",
    "handles = handles1 + handles2\n",
    "labels = labels1 + labels2\n",
    "# ax1.legend(handles, labels, loc='upper right')\n",
    "plt.xlabel('corrected zscore')\n",
    "plt.grid(alpha=0.2, zorder=0)\n",
    "plt.tick_params(axis='both', which='both', length=1.5)\n",
    "plt.tight_layout(pad=0.1)\n",
    "plt.savefig(os.path.join(path_out, 'FISH_groundtruthfitTS.pdf'), bbox_inches='tight', transparent=True)\n",
    "plt.show()\n",
    "plt.close()"
   ],
   "metadata": {
    "collapsed": false
   }
  },
  {
   "cell_type": "code",
   "execution_count": 11,
   "outputs": [
    {
     "data": {
      "text/plain": "<Figure size 157x157 with 1 Axes>",
      "image/png": "[encoded data removed]"
     },
     "metadata": {},
     "output_type": "display_data"
    }
   ],
   "source": [
    "# number of RNA per TS\n",
    "ts_percell = df_fish_TS.groupby(['file', 'label'])['calledTS'].value_counts().rename('number').reset_index()\n",
    "fig, ax = plt.subplots(figsize=(1.57, 1.57))\n",
    "sns.histplot(ts_percell[ts_percell['calledTS'] == True], x='number', discrete=True, color='gray')\n",
    "plt.xlabel('Number of TSS per cell')\n",
    "plt.ylabel('Count')\n",
    "plt.tight_layout(pad=0.1)\n",
    "plt.savefig(os.path.join(path_out, 'histogramm_numberTS.pdf'), bbox_inches='tight', transparent=True)\n",
    "plt.show()\n",
    "plt.close()"
   ],
   "metadata": {
    "collapsed": false
   }
  },
  {
   "cell_type": "code",
   "execution_count": 12,
   "outputs": [
    {
     "data": {
      "text/plain": "<Figure size 157x157 with 1 Axes>",
      "image/png": "[encoded data removed]"
     },
     "metadata": {},
     "output_type": "display_data"
    }
   ],
   "source": [
    "# percentage of cells with TS\n",
    "ts_percCells = pd.read_csv(\n",
    "    '/Volumes/ggiorget_scratch/Jana/transcrip_dynamic/E10_Mobi/fish/summarized_data/perc-cell.csv')\n",
    "ts_percCells = ts_percCells.merge(df_positions[['clone', 'distance', 'cp']], on='clone', how='left')\n",
    "ts_percCells.fillna(-0.2, inplace=True)\n",
    "\n",
    "plt.figure(figsize=(1.57, 1.57))\n",
    "plt.scatter(ts_percCells['cp'], ts_percCells['perc'], s=3, zorder=2, color='black')\n",
    "plt.grid(alpha=0.2, zorder=1)\n",
    "x_ticks = np.linspace(0, 1, 5)\n",
    "plt.xticks(x_ticks)\n",
    "plt.tick_params(axis='both', which='both', length=1.5)  # Adjust tick length\n",
    "plt.xlabel('Contact probability')\n",
    "plt.ylabel('Percentage of cells with TSS')\n",
    "plt.tight_layout(pad=0.1)\n",
    "plt.savefig(os.path.join(path_out, 'FISH_percTS.pdf'), bbox_inches='tight', transparent=True)\n",
    "plt.show()\n",
    "plt.close()"
   ],
   "metadata": {
    "collapsed": false
   }
  },
  {
   "cell_type": "code",
   "execution_count": 13,
   "outputs": [
    {
     "data": {
      "text/plain": "<Figure size 157x157 with 1 Axes>",
      "image/png": "[encoded data removed]"
     },
     "metadata": {},
     "output_type": "display_data"
    }
   ],
   "source": [
    "# intensity enrichment in TS\n",
    "selected_enrichment = df_fish_TS[(df_fish_TS['calledTS'] == True) & (~df_fish_TS['clone'].isin(['6G3', 'E14ddCTCF']))]\n",
    "\n",
    "plt.figure(figsize=(1.57, 1.57))\n",
    "sns.boxplot(data=selected_enrichment, x='clone', y='enrichment', color='gray', linewidth=1)\n",
    "plt.ylabel('Intensity enrichment score')\n",
    "plt.xlabel('Clone')\n",
    "plt.tight_layout(pad=0.1)\n",
    "plt.savefig(os.path.join(path_out, 'FISH_enrichment.pdf'), bbox_inches='tight', transparent=True)\n",
    "plt.show()\n",
    "plt.close()"
   ],
   "metadata": {
    "collapsed": false
   }
  }
 ],
 "metadata": {
  "kernelspec": {
   "display_name": "Python 3",
   "language": "python",
   "name": "python3"
  },
  "language_info": {
   "codemirror_mode": {
    "name": "ipython",
    "version": 2
   },
   "file_extension": ".py",
   "mimetype": "text/x-python",
   "name": "python",
   "nbconvert_exporter": "python",
   "pygments_lexer": "ipython2",
   "version": "2.7.6"
  }
 },
 "nbformat": 4,
 "nbformat_minor": 0
}
